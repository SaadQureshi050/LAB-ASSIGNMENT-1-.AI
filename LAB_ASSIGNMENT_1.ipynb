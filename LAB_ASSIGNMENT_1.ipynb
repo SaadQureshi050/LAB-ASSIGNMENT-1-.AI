{
  "nbformat": 4,
  "nbformat_minor": 0,
  "metadata": {
    "colab": {
      "provenance": []
    },
    "kernelspec": {
      "name": "python3",
      "display_name": "Python 3"
    },
    "language_info": {
      "name": "python"
    }
  },
  "cells": [
    {
      "cell_type": "code",
      "execution_count": null,
      "metadata": {
        "id": "zyk-mNrDddw2"
      },
      "outputs": [],
      "source": []
    },
    {
      "cell_type": "code",
      "source": [
        "cities_graph = {\n",
        "    'Islamabad': ['Rawalpindi', 'Lahore', 'Peshawar'],\n",
        "    'Rawalpindi': ['Islamabad', 'Peshawar', 'Quetta'],\n",
        "    'Peshawar': ['Islamabad', 'Rawalpindi', 'Quetta'],\n",
        "    'Lahore': ['Islamabad', 'Multan', 'Quetta'],\n",
        "    'Multan': ['Lahore', 'Karachi', 'Quetta'],\n",
        "    'Quetta': ['Rawalpindi', 'Peshawar', 'Multan', 'Karachi'],\n",
        "    'Karachi': ['Multan', 'Quetta']\n",
        "}\n",
        "from collections import deque\n",
        "\n",
        "def bfs_shortest_path(graph, start, goal):\n",
        "    # Queue for BFS\n",
        "    queue = deque([(start, [start])])\n",
        "    visited = set()  # To keep track of visited nodes\n",
        "\n",
        "    while queue:\n",
        "        current_city, path = queue.popleft()\n",
        "\n",
        "        # If we reached the goal, return the path\n",
        "        if current_city == goal:\n",
        "            return path\n",
        "\n",
        "        # Mark the current city as visited\n",
        "        visited.add(current_city)\n",
        "\n",
        "        # Explore connected cities\n",
        "        for neighbor in graph[current_city]:\n",
        "            if neighbor not in visited:\n",
        "                queue.append((neighbor, path + [neighbor]))\n",
        "\n",
        "    return None  # Return None if no path is found\n",
        "\n",
        "\n",
        "# Finding the shortest path from Islamabad to Karachi\n",
        "start_city = 'Islamabad'\n",
        "goal_city = 'Karachi'\n",
        "shortest_path = bfs_shortest_path(cities_graph, start_city, goal_city)\n",
        "\n",
        "if shortest_path:\n",
        "    print(\"Shortest path from Islamabad to Karachi:\", \" -> \".join(shortest_path))\n",
        "else:\n",
        "    print(\"No path found from Islamabad to Karachi.\")\n"
      ],
      "metadata": {
        "colab": {
          "base_uri": "https://localhost:8080/"
        },
        "id": "bm46icxbeLB_",
        "outputId": "e620868d-d656-4468-edef-668ac6c7c648"
      },
      "execution_count": 1,
      "outputs": [
        {
          "output_type": "stream",
          "name": "stdout",
          "text": [
            "Shortest path from Islamabad to Karachi: Islamabad -> Rawalpindi -> Quetta -> Karachi\n"
          ]
        }
      ]
    }
  ]
}